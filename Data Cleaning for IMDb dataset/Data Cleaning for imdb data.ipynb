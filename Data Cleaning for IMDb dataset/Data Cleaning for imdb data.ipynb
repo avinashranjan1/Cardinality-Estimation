{
 "cells": [
  {
   "cell_type": "markdown",
   "metadata": {},
   "source": [
    "# Due to uneven quotes in the file, the file was not uploading in the database, so I removed quotes from the file with white space\n",
    "\n",
    "with open('/home/hp/code/movie_companies.csv', \"r+\", encoding=\"utf-8\") as csv_file:\n",
    "    content = csv_file.read()\n",
    "\n",
    "with open('/home/hp/code/movie_companies.csv', \"w+\", encoding=\"utf-8\") as csv_file:\n",
    "    csv_file.write(content.replace('\"', ''))"
   ]
  },
  {
   "cell_type": "code",
   "execution_count": 47,
   "metadata": {},
   "outputs": [],
   "source": [
    "with open('/home/hp/Desktop/Thesis/code/movie_infos/new.csv', \"r+\", encoding=\"utf-8\") as csv_file: content = csv_file.read()\n",
    "\n",
    "with open('/home/hp/Desktop/Thesis/code/movie_infos/new.csv', \"w+\", encoding=\"utf-8\") as csv_file:\n",
    "    csv_file.write(content.replace('\"', ''))"
   ]
  },
  {
   "cell_type": "code",
   "execution_count": 93,
   "metadata": {
    "scrolled": true
   },
   "outputs": [],
   "source": [
    "# # import pandas\n",
    "# import pandas as pd\n",
    "  \n",
    "# # create data frame\n",
    "# Data = {'Name#': ['Mukul', 'Rohan', 'Mayank',\n",
    "#                   'Shubham', 'Aakash'],\n",
    "          \n",
    "#         'Location': ['Saharanpur', 'Meerut', 'Agra',\n",
    "#                      'Saharanpur', 'Meerut'],\n",
    "          \n",
    "#         'Pay': [25000, 30000, 35000, 40000, 45000]}\n",
    "  \n",
    "# df = pd.DataFrame(Data)\n",
    "  \n",
    "# # print original data frame\n",
    "# print(df)\n",
    "  \n",
    "# # remove special character\n",
    "# df.columns = df.columns.str.replace('[#,@,&]', '')\n",
    "  \n",
    "# # print file after removing special character\n",
    "# print(\"\\n\\n\", df)\n"
   ]
  },
  {
   "cell_type": "markdown",
   "metadata": {},
   "source": [
    "# Linux command to remove comma between double quotes from CSV file\n",
    "\n",
    "awk -F'\"' -v OFS='' '{ for (i=2; i<=NF; i+=2) gsub(\",\", \"\", $i) } 1' xaa > new.csv\n",
    "\n",
    "Input: 12266123,571772,16,\"USA:16 ,January 2012\",\n",
    "Output: 12266123,571772,16,USA:16 January 2012,\n",
    "\n"
   ]
  },
  {
   "cell_type": "markdown",
   "metadata": {},
   "source": [
    "# Now I removed the special character from each column and imported the file as panda dataframe"
   ]
  },
  {
   "cell_type": "code",
   "execution_count": 98,
   "metadata": {},
   "outputs": [
    {
     "name": "stderr",
     "output_type": "stream",
     "text": [
      "Skipping line 2149905: ',' expected after '\"'\n",
      "Skipping line 2264539: ',' expected after '\"'\n",
      "Skipping line 2273845: ',' expected after '\"'\n"
     ]
    },
    {
     "data": {
      "text/html": [
       "<div>\n",
       "<style scoped>\n",
       "    .dataframe tbody tr th:only-of-type {\n",
       "        vertical-align: middle;\n",
       "    }\n",
       "\n",
       "    .dataframe tbody tr th {\n",
       "        vertical-align: top;\n",
       "    }\n",
       "\n",
       "    .dataframe thead th {\n",
       "        text-align: right;\n",
       "    }\n",
       "</style>\n",
       "<table border=\"1\" class=\"dataframe\">\n",
       "  <thead>\n",
       "    <tr style=\"text-align: right;\">\n",
       "      <th></th>\n",
       "      <th>4930403</th>\n",
       "      <th>2000585</th>\n",
       "      <th>8</th>\n",
       "      <th>France</th>\n",
       "      <th>Unnamed: 4</th>\n",
       "    </tr>\n",
       "  </thead>\n",
       "  <tbody>\n",
       "    <tr>\n",
       "      <th>0</th>\n",
       "      <td>4930404</td>\n",
       "      <td>2000586</td>\n",
       "      <td>8</td>\n",
       "      <td>Canada</td>\n",
       "      <td>NaN</td>\n",
       "    </tr>\n",
       "    <tr>\n",
       "      <th>1</th>\n",
       "      <td>4930405</td>\n",
       "      <td>2000587</td>\n",
       "      <td>8</td>\n",
       "      <td>Canada</td>\n",
       "      <td>NaN</td>\n",
       "    </tr>\n",
       "    <tr>\n",
       "      <th>2</th>\n",
       "      <td>4930406</td>\n",
       "      <td>2000589</td>\n",
       "      <td>8</td>\n",
       "      <td>UK</td>\n",
       "      <td>NaN</td>\n",
       "    </tr>\n",
       "    <tr>\n",
       "      <th>3</th>\n",
       "      <td>4930407</td>\n",
       "      <td>2000588</td>\n",
       "      <td>8</td>\n",
       "      <td>UK</td>\n",
       "      <td>NaN</td>\n",
       "    </tr>\n",
       "    <tr>\n",
       "      <th>4</th>\n",
       "      <td>4930408</td>\n",
       "      <td>2000590</td>\n",
       "      <td>8</td>\n",
       "      <td>UK</td>\n",
       "      <td>NaN</td>\n",
       "    </tr>\n",
       "  </tbody>\n",
       "</table>\n",
       "</div>"
      ],
      "text/plain": [
       "   4930403  2000585  8  France Unnamed: 4\n",
       "0  4930404  2000586  8  Canada        NaN\n",
       "1  4930405  2000587  8  Canada        NaN\n",
       "2  4930406  2000589  8      UK        NaN\n",
       "3  4930407  2000588  8      UK        NaN\n",
       "4  4930408  2000590  8      UK        NaN"
      ]
     },
     "execution_count": 98,
     "metadata": {},
     "output_type": "execute_result"
    }
   ],
   "source": [
    "import pandas as pd\n",
    "\n",
    "df = pd.read_csv(\"/home/hp/Desktop/Thesis/code/movie/new.csv\", error_bad_lines=False,encoding=\"utf-8\", engine='python')\n",
    "pd.options.display.float_format = '{:.0f}'.format\n",
    "df.head()\n",
    "\n",
    "# df.columns = df.columns.str.replace('[#,@,&,/]', '')\n",
    "# print(\"\\n\\n\", df)\n"
   ]
  },
  {
   "cell_type": "markdown",
   "metadata": {},
   "source": [
    "# Downloaded the panda file in csv"
   ]
  },
  {
   "cell_type": "code",
   "execution_count": 99,
   "metadata": {},
   "outputs": [],
   "source": [
    "\n",
    "df.to_csv(\"/home/hp/Desktop/Thesis/code/movie/ckeck1.csv\",index=False,encoding=\"utf-8\",float_format='{:.0f}'.format)"
   ]
  },
  {
   "cell_type": "markdown",
   "metadata": {},
   "source": [
    "# # Finally I got a csv file(comma seperated file), since I removed all the special characters from file which leads to remove quotes even from char data. So, to ensure the char data is within double quotes I ran unix command\n",
    "\n",
    "awk -F, 'BEGIN{ OFS=FS } { $5=\"\\\"\"$5\"\\\"\"; print }' < recheck.csv > recheck1.csv\n",
    "\n",
    "This leads to put quotes in column 5 only\n",
    "\n",
    "Reference: https://unix.stackexchange.com/questions/437164/is-it-possible-to-put-double-quotes-in-just-a-few-columns-using-sed\n",
    "\n",
    "    Finally uploaded the file to postgresl\n",
    "    \n",
    "   \\copy movie_companies from '/home/hp/code/recheck1.csv' DELIMITER ','CSV HEADER;"
   ]
  },
  {
   "cell_type": "code",
   "execution_count": null,
   "metadata": {},
   "outputs": [],
   "source": []
  }
 ],
 "metadata": {
  "kernelspec": {
   "display_name": "Python 3",
   "language": "python",
   "name": "python3"
  },
  "language_info": {
   "codemirror_mode": {
    "name": "ipython",
    "version": 3
   },
   "file_extension": ".py",
   "mimetype": "text/x-python",
   "name": "python",
   "nbconvert_exporter": "python",
   "pygments_lexer": "ipython3",
   "version": "3.8.5"
  }
 },
 "nbformat": 4,
 "nbformat_minor": 5
}
